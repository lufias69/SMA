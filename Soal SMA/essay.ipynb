{
 "cells": [
  {
   "cell_type": "code",
   "execution_count": 1,
   "metadata": {},
   "outputs": [],
   "source": [
    "import pandas as pd\n",
    "from docx import Document"
   ]
  },
  {
   "cell_type": "code",
   "execution_count": 2,
   "metadata": {},
   "outputs": [],
   "source": [
    "document = Document('Essay PAI-10docx.docx')"
   ]
  },
  {
   "cell_type": "code",
   "execution_count": null,
   "metadata": {},
   "outputs": [],
   "source": []
  },
  {
   "cell_type": "code",
   "execution_count": 16,
   "metadata": {},
   "outputs": [
    {
     "name": "stdout",
     "output_type": "stream",
     "text": [
      "1. Salah satu sifat makhluk adalah fana yang artinya.....\n",
      "jawaban : tidak kekal\n",
      "2. Nama-nama Allah yang agung dan mulia itu merupakan suatu kesatuan yang menyatu dalam kebesaran dan kehebatan milik...\n",
      "jawaban : Allah\n",
      "3. Allah adalah Dzat yang paling tepat untuk diserahi segala urusan. Maka Allah disebut....\n",
      "jawaban : Al Wakil\n",
      "4. Mengutamakan keluhuran budi merupakan cermin dari pemahaman Asmaul Husna....\n",
      "jawaban : Al Karim\n",
      "5. Selalu bersikap optimis dalam segala hal baik dalam belajar maupun bekerja merupakan wujud dari pemamahan Asmaul Husna....\n",
      "jawaban : Al Wakil\n",
      "6. Setiap manusia akan dimintai....\n",
      "jawaban : pertanggungjawaban di akhirat\n",
      "7. Allah bersifat kekal, maka mustahil....\n",
      "jawaban : fana\n",
      "8. Tidak membeda-bedakan dalam memutuskan sesuatu merupakan cermin dari perilaku....\n",
      "jawaban : adil\n",
      "9. Ayat Al-Qur’an yang menjelaskan tentang Asmual Husna Al Akhir adalah....\n",
      "jawaban : Q.S. Al Hadid [57]: 3\n",
      "10. Nama Allah yang terbaik dan terindah disebut....\n",
      "jawaban : Asmaul Husna\n"
     ]
    }
   ],
   "source": [
    "now = 1\n",
    "soal = list()\n",
    "a = list()\n",
    "b = list()\n",
    "c = list()\n",
    "d = list()\n",
    "e = list()\n",
    "jawaban__ = list()\n",
    "for ix, p in enumerate(document.paragraphs):\n",
    "    t_split = p.text.strip().split(\" \")\n",
    "    t_split2 = t_split[0].split(\".\")[0]\n",
    "    jawaban = t_split[0].split(\" \")[0]\n",
    "    huruf = t_split2\n",
    "    if t_split2.isnumeric():\n",
    "        if int(t_split2)==now:\n",
    "            soal.append(\" \".join(p.text.split()[1:]))\n",
    "            now +=1\n",
    "            print(p.text)\n",
    "#     elif huruf.lower() == \"a\":\n",
    "#         cc = p.text.split(\" \")\n",
    "#         cc[0] = cc[0].lower()\n",
    "#         cc = [x.strip() for x in cc]\n",
    "#         cc = \" \".join(cc[1:]).capitalize()\n",
    "#         a.append(cc)\n",
    "# #         print(\" \",cc)\n",
    "#     elif huruf.lower() == \"b\":\n",
    "#         cc = p.text.split(\" \")\n",
    "#         cc[0] = cc[0].lower()\n",
    "#         cc = [x.strip() for x in cc]\n",
    "#         cc = \" \".join(cc[1:]).capitalize()\n",
    "#         b.append(cc)\n",
    "# #         print(\" \",cc)\n",
    "#     elif huruf.lower() == \"c\":\n",
    "#         cc = p.text.split(\" \")\n",
    "#         cc[0] = cc[0].lower()\n",
    "#         cc = [x.strip() for x in cc]\n",
    "#         cc = \" \".join(cc[1:]).capitalize()\n",
    "#         c.append(cc)\n",
    "# # #         print(\" \",cc)\n",
    "#     elif huruf.lower() == \"d\":\n",
    "#         cc = p.text.split(\" \")\n",
    "#         cc[0] = cc[0].lower()\n",
    "#         cc = [x.strip() for x in cc]\n",
    "#         cc = \" \".join(cc[1:]).capitalize()\n",
    "#         d.append(cc)\n",
    "# #         print(\" \",cc)\n",
    "#     elif huruf.lower() == \"e\":\n",
    "#         cc = p.text.split(\" \")\n",
    "#         cc[0] = cc[0].lower()\n",
    "#         cc = [x.strip() for x in cc]\n",
    "#         cc = \" \".join(cc[1:]).capitalize()\n",
    "#         e.append(cc)\n",
    "#         print(\" \",cc)\n",
    "    elif jawaban == \"Jawaban:\":\n",
    "        cc = \" \".join(t_split[1:])\n",
    "        print(\"jawaban :\",cc)\n",
    "        jawaban__.append(cc)\n",
    "        \n",
    "        \n",
    "#             print(ix)\n",
    "#             print(p.text)\n",
    "#     print(p.text)\n",
    "#     print(\"___________\")"
   ]
  },
  {
   "cell_type": "code",
   "execution_count": null,
   "metadata": {},
   "outputs": [],
   "source": []
  },
  {
   "cell_type": "code",
   "execution_count": null,
   "metadata": {},
   "outputs": [],
   "source": []
  },
  {
   "cell_type": "code",
   "execution_count": null,
   "metadata": {},
   "outputs": [],
   "source": []
  },
  {
   "cell_type": "code",
   "execution_count": 18,
   "metadata": {},
   "outputs": [
    {
     "data": {
      "text/html": [
       "<div>\n",
       "<style scoped>\n",
       "    .dataframe tbody tr th:only-of-type {\n",
       "        vertical-align: middle;\n",
       "    }\n",
       "\n",
       "    .dataframe tbody tr th {\n",
       "        vertical-align: top;\n",
       "    }\n",
       "\n",
       "    .dataframe thead th {\n",
       "        text-align: right;\n",
       "    }\n",
       "</style>\n",
       "<table border=\"1\" class=\"dataframe\">\n",
       "  <thead>\n",
       "    <tr style=\"text-align: right;\">\n",
       "      <th></th>\n",
       "      <th>soal</th>\n",
       "      <th>kunci</th>\n",
       "    </tr>\n",
       "  </thead>\n",
       "  <tbody>\n",
       "    <tr>\n",
       "      <td>0</td>\n",
       "      <td>Salah satu sifat makhluk adalah fana yang arti...</td>\n",
       "      <td>tidak kekal</td>\n",
       "    </tr>\n",
       "    <tr>\n",
       "      <td>1</td>\n",
       "      <td>Nama-nama Allah yang agung dan mulia itu merup...</td>\n",
       "      <td>Allah</td>\n",
       "    </tr>\n",
       "    <tr>\n",
       "      <td>2</td>\n",
       "      <td>Allah adalah Dzat yang paling tepat untuk dise...</td>\n",
       "      <td>Al Wakil</td>\n",
       "    </tr>\n",
       "    <tr>\n",
       "      <td>3</td>\n",
       "      <td>Mengutamakan keluhuran budi merupakan cermin d...</td>\n",
       "      <td>Al Karim</td>\n",
       "    </tr>\n",
       "    <tr>\n",
       "      <td>4</td>\n",
       "      <td>Selalu bersikap optimis dalam segala hal baik ...</td>\n",
       "      <td>Al Wakil</td>\n",
       "    </tr>\n",
       "    <tr>\n",
       "      <td>5</td>\n",
       "      <td>Setiap manusia akan dimintai....</td>\n",
       "      <td>pertanggungjawaban di akhirat</td>\n",
       "    </tr>\n",
       "    <tr>\n",
       "      <td>6</td>\n",
       "      <td>Allah bersifat kekal, maka mustahil....</td>\n",
       "      <td>fana</td>\n",
       "    </tr>\n",
       "    <tr>\n",
       "      <td>7</td>\n",
       "      <td>Tidak membeda-bedakan dalam memutuskan sesuatu...</td>\n",
       "      <td>adil</td>\n",
       "    </tr>\n",
       "    <tr>\n",
       "      <td>8</td>\n",
       "      <td>Ayat Al-Qur’an yang menjelaskan tentang Asmual...</td>\n",
       "      <td>Q.S. Al Hadid [57]: 3</td>\n",
       "    </tr>\n",
       "    <tr>\n",
       "      <td>9</td>\n",
       "      <td>Nama Allah yang terbaik dan terindah disebut....</td>\n",
       "      <td>Asmaul Husna</td>\n",
       "    </tr>\n",
       "  </tbody>\n",
       "</table>\n",
       "</div>"
      ],
      "text/plain": [
       "                                                soal  \\\n",
       "0  Salah satu sifat makhluk adalah fana yang arti...   \n",
       "1  Nama-nama Allah yang agung dan mulia itu merup...   \n",
       "2  Allah adalah Dzat yang paling tepat untuk dise...   \n",
       "3  Mengutamakan keluhuran budi merupakan cermin d...   \n",
       "4  Selalu bersikap optimis dalam segala hal baik ...   \n",
       "5                   Setiap manusia akan dimintai....   \n",
       "6            Allah bersifat kekal, maka mustahil....   \n",
       "7  Tidak membeda-bedakan dalam memutuskan sesuatu...   \n",
       "8  Ayat Al-Qur’an yang menjelaskan tentang Asmual...   \n",
       "9   Nama Allah yang terbaik dan terindah disebut....   \n",
       "\n",
       "                           kunci  \n",
       "0                    tidak kekal  \n",
       "1                          Allah  \n",
       "2                       Al Wakil  \n",
       "3                       Al Karim  \n",
       "4                       Al Wakil  \n",
       "5  pertanggungjawaban di akhirat  \n",
       "6                           fana  \n",
       "7                           adil  \n",
       "8          Q.S. Al Hadid [57]: 3  \n",
       "9                   Asmaul Husna  "
      ]
     },
     "execution_count": 18,
     "metadata": {},
     "output_type": "execute_result"
    }
   ],
   "source": [
    "import pandas as pd\n",
    "dicA = {\"soal\":soal,\"kunci\":jawaban__}\n",
    "ds = pd.DataFrame.from_dict(dicA)\n",
    "ds"
   ]
  },
  {
   "cell_type": "code",
   "execution_count": 19,
   "metadata": {},
   "outputs": [],
   "source": [
    "ds.to_excel(\"PAI_essay.xlsx\")"
   ]
  },
  {
   "cell_type": "code",
   "execution_count": 39,
   "metadata": {},
   "outputs": [],
   "source": [
    "# document = Document()\n",
    "# for s, a_, b_, c_, d_, e_ in zip(soal, a, b, c, d, e):\n",
    "# #     print(\" \".join(s.split(\" \")[1:]))\n",
    "#     document.add_paragraph\n",
    "#     document.add_paragraph(s)\n",
    "#     document.add_paragraph(\"\\t{}\".format(a_))\n",
    "#     document.add_paragraph(\"\\t{}\".format(b_))\n",
    "#     document.add_paragraph(\"\\t{}\".format(c_))\n",
    "#     document.add_paragraph(\"\\t{}\".format(d_))\n",
    "#     document.add_paragraph(\"\\t{}\".format(e_))"
   ]
  },
  {
   "cell_type": "code",
   "execution_count": 67,
   "metadata": {},
   "outputs": [],
   "source": [
    "# document.save(\"soal_Prakarya_kelas_10temp.docx\")"
   ]
  },
  {
   "cell_type": "code",
   "execution_count": null,
   "metadata": {},
   "outputs": [],
   "source": []
  }
 ],
 "metadata": {
  "kernelspec": {
   "display_name": "Python 3",
   "language": "python",
   "name": "python3"
  },
  "language_info": {
   "codemirror_mode": {
    "name": "ipython",
    "version": 3
   },
   "file_extension": ".py",
   "mimetype": "text/x-python",
   "name": "python",
   "nbconvert_exporter": "python",
   "pygments_lexer": "ipython3",
   "version": "3.7.4"
  }
 },
 "nbformat": 4,
 "nbformat_minor": 2
}
