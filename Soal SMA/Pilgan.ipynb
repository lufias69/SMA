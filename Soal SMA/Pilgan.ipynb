{
 "cells": [
  {
   "cell_type": "code",
   "execution_count": 1,
   "metadata": {},
   "outputs": [],
   "source": [
    "import pandas as pd\n",
    "from docx import Document"
   ]
  },
  {
   "cell_type": "code",
   "execution_count": 50,
   "metadata": {},
   "outputs": [],
   "source": [
    "document = Document('Soal UTS PAI Kelas 10 SMA MA pilihan gnda.docx')"
   ]
  },
  {
   "cell_type": "code",
   "execution_count": null,
   "metadata": {},
   "outputs": [],
   "source": []
  },
  {
   "cell_type": "code",
   "execution_count": 67,
   "metadata": {},
   "outputs": [
    {
     "name": "stdout",
     "output_type": "stream",
     "text": [
      "1. Arti fana adalah....\n",
      "  Tidak ada akhir\n",
      "2. Allah memiliki sifat Al Karim, artinya Allah Maha\n",
      "  Adil\n",
      "3. Allah memiki sifat Al Karim, yang tercantum dalam surah....\n",
      "  Ali ‘imran ayat 173\n",
      "4. Allah memiliki sifat Al Matin, artinya Allah Maha....\n",
      "  Kokoh\n",
      "5. Allah memiliki sifat Al Matin, yang tercantum dalam surath..\n",
      "  Az zariyat ayat 58\n",
      "6. Salah satu Asmaul Husna adalah Al ‘Adl yang artinya adalah....\n",
      "  Maha pengasih\n",
      "7. Allah Maha Mengumpulkan merupakan arti dari....\n",
      "  Al ‘aziz\n",
      "8. Sifat adil Allah berlaku untuk...\n",
      "  Orang saleh\n",
      "9. Salah satu Asmaul Husna adalah Al Akhir yang artinya adalah....\n",
      "  Maha pengasih\n",
      "10. Adanya Asmaul Husna diterangkan dalam Al-Qur’an surah....\n",
      "  Taha ayat 10\n",
      "11. Batasan aurat perempuan adalah....\n",
      "  Seluruh tubuh kecuali wajah dan telapak tangan\n",
      "12. Pakaian adalah....\n",
      "  Kemewahan seorang manusia\n",
      "13. Dalam Islam pakaian harus....\n",
      "  Mahal dan mewah\n",
      "14. Sebelum berpakaian hendaknya kita....\n",
      "  Berwudhu\n",
      "15. Ketika hendak berpakaian, maka mulailah dengan bagian tubuh sebelah....\n",
      "  Benar semua\n",
      "16. Bagian tubuh yang tidak boleh diperlihatkan menurut ajaran Islam disebut....\n",
      "  Aksesoris\n",
      "17. Surah yang menjelaskan tentang larangan untuk melakukan berapakain, makan, dan minum secara berlebihan adalah...\n",
      "  Q.s. al a’raf [7]: 35\n",
      "18. Menurut surah Al A’raf ayat 26 pakaian yang paling baik di mata Allah SWT, adalah....\n",
      "  Pakaian taqwa\n",
      "19. Batasan aurat laki-laki adalah....\n",
      "  Seluruh tubuh kecuali wajah dan telapak tangan\n",
      "20. Fungsi pakaian adalah....\n",
      "  Menunjukkan model terbaru\n",
      "21. Jujur merupakan ciri seorang muslim, sedangkan bohong atau  tidak jujur merupakan ciri dari....\n",
      "  Muslimin\n",
      "22. Berikut yang tidak termasuk akhlak terpuji adalah....\n",
      "  Rendah hati\n",
      "23. Bersikap apa adanya dinamakan....\n",
      "  Jujur\n",
      "24. Orang jujur akan berkata....\n",
      "  Bohong\n",
      "25. Orang yang berbuat jujur perbuatannya selalu...\n",
      "  Lurus\n",
      "26. Lawan jujur adalah....\n",
      "  Rendah diri\n",
      "27. Orang yang suka berbohong termasuk orang....\n",
      "  Mu’min\n",
      "28. Mengerjakan tugas tepat waktu disebut....\n",
      "  Percaya diri\n",
      "29. Rasulullah SAW. selalu berkata....\n",
      "  Menyimpang\n",
      "30. Perilaku baik yang dimiliki manusia disebut....\n",
      "  Akhlak sayyi’ah\n",
      "31. Sifat dasar hukum Al-Qur'an adalah keseimbangan dari segi kebendaan dan kejiwaan yang disebut....\n",
      "  Khuludiyah\n",
      "32. Al-Qur’an diawali dengan surat Al Fatihah (pembukaan) dan diakhiri dengan surah....\n",
      "  Al falaq\n",
      "33. Al-Qur'an adalah pedoman bagi manusia petunjuk dan rahmat bagi kaum yang meyakini. Hal ini ditegaskan Allah dalam surah....\n",
      "  Al baqarah [2]: 2\n",
      "34. Al-Qur'an berfungsi sebagai Hudan yang artinya....\n",
      "  Ketetapan\n",
      "35.  Dalam surah Al Baqarah ayat 2 Allah berfirman bahwa Al-Qur'an merupakan petunjuk bagi...\n",
      "  Muslimin\n",
      "36. Al-Qur'an berfungsi sebagai mauizah. Hal ini terdapat dalam surah....\n",
      "  Al baqarah [2]: 2\n",
      "37. Hukum Islam tentang waris ada secara lengkap dalam....\n",
      "  Kuhp\n",
      "38. Hukum yang mengatur hubungan manusia dengan Allah secara lahiriah, manusia dengan sesama manusia, dan manusia dengan lingkungan sekitarnya disebut hukum....\n",
      "  Siyasah\n",
      "39. Hukum yang berkenaan dengan perilaku akhlak manusia dalam kehidupan disebut hukum....\n",
      "  Siyasah\n",
      "40. Sumber hukum yang tertinggi dalam Islam adalah....\n",
      "  Ijama\n",
      "41. Menurut macam periwayatannya hadits dibagi menjadi.... macam.\n",
      "  Dua\n",
      "42. Hadits merupakan mubayyin bagi Al-Qur’an. Arti mubayyin adalah....\n",
      "  Arti\n",
      "43. Sumber hukum kedua dalam menetapkan hukum setelah Al-Qur’an adalah...\n",
      "  Fatwa ulama\n",
      "44. Hukum mengunakan hadits sebagai landasan hukum adalah...\n",
      "  Wajib\n",
      "45. Orang yang meriwayatkan hadits disebut...\n",
      "  Tabi’ut tabi’in\n"
     ]
    }
   ],
   "source": [
    "now = 1\n",
    "soal = list()\n",
    "a = list()\n",
    "b = list()\n",
    "c = list()\n",
    "d = list()\n",
    "e = list()\n",
    "jawaban__ = list()\n",
    "for ix, p in enumerate(document.paragraphs):\n",
    "    t_split = p.text.strip().split(\" \")\n",
    "    t_split2 = t_split[0].split(\".\")[0]\n",
    "    jawaban = t_split[0].split(\" \")[0]\n",
    "    huruf = t_split2\n",
    "    if t_split2.isnumeric():\n",
    "        if int(t_split2)==now:\n",
    "            soal.append(\" \".join(p.text.split()[1:]))\n",
    "            now +=1\n",
    "            print(p.text)\n",
    "    elif huruf.lower() == \"a\":\n",
    "        cc = p.text.split(\" \")\n",
    "        cc[0] = cc[0].lower()\n",
    "        cc = [x.strip() for x in cc]\n",
    "        cc = \" \".join(cc[1:]).capitalize()\n",
    "        a.append(cc)\n",
    "#         print(\" \",cc)\n",
    "    elif huruf.lower() == \"b\":\n",
    "        cc = p.text.split(\" \")\n",
    "        cc[0] = cc[0].lower()\n",
    "        cc = [x.strip() for x in cc]\n",
    "        cc = \" \".join(cc[1:]).capitalize()\n",
    "        b.append(cc)\n",
    "#         print(\" \",cc)\n",
    "    elif huruf.lower() == \"c\":\n",
    "        cc = p.text.split(\" \")\n",
    "        cc[0] = cc[0].lower()\n",
    "        cc = [x.strip() for x in cc]\n",
    "        cc = \" \".join(cc[1:]).capitalize()\n",
    "        c.append(cc)\n",
    "# #         print(\" \",cc)\n",
    "    elif huruf.lower() == \"d\":\n",
    "        cc = p.text.split(\" \")\n",
    "        cc[0] = cc[0].lower()\n",
    "        cc = [x.strip() for x in cc]\n",
    "        cc = \" \".join(cc[1:]).capitalize()\n",
    "        d.append(cc)\n",
    "#         print(\" \",cc)\n",
    "    elif huruf.lower() == \"e\":\n",
    "        cc = p.text.split(\" \")\n",
    "        cc[0] = cc[0].lower()\n",
    "        cc = [x.strip() for x in cc]\n",
    "        cc = \" \".join(cc[1:]).capitalize()\n",
    "        e.append(cc)\n",
    "        print(\" \",cc)\n",
    "    elif jawaban == \"Jawaban:\":\n",
    "#         print(\"jawaban :\",t_split[1].split(\" \")[0])\n",
    "        jawaban__.append(t_split[1].split(\" \")[0].upper())\n",
    "        \n",
    "        \n",
    "#             print(ix)\n",
    "#             print(p.text)\n",
    "#     print(p.text)\n",
    "#     print(\"___________\")"
   ]
  },
  {
   "cell_type": "code",
   "execution_count": 68,
   "metadata": {},
   "outputs": [
    {
     "data": {
      "text/plain": [
       "45"
      ]
     },
     "execution_count": 68,
     "metadata": {},
     "output_type": "execute_result"
    }
   ],
   "source": [
    "len(d)"
   ]
  },
  {
   "cell_type": "code",
   "execution_count": 74,
   "metadata": {},
   "outputs": [
    {
     "name": "stdout",
     "output_type": "stream",
     "text": [
      "0\n",
      "1\n",
      "2\n",
      "3\n",
      "tabi’in wajib\n",
      "d wajib\n",
      "4\n",
      "tabi’in wajib\n",
      "d wajib\n",
      "5\n",
      "6\n",
      "7\n",
      "8\n",
      "9\n",
      "10\n",
      "tabi’in wajib\n",
      "d wajib\n",
      "11\n",
      "12\n",
      "13\n",
      "14\n",
      "15\n",
      "16\n",
      "17\n",
      "tabi’in wajib\n",
      "d wajib\n",
      "18\n",
      "19\n",
      "20\n",
      "21\n",
      "22\n",
      "tabi’in wajib\n",
      "d wajib\n",
      "23\n",
      "24\n",
      "tabi’in wajib\n",
      "d wajib\n",
      "25\n",
      "26\n",
      "27\n",
      "28\n",
      "29\n",
      "30\n",
      "31\n",
      "32\n",
      "33\n",
      "34\n",
      "35\n",
      "36\n",
      "37\n",
      "38\n",
      "39\n",
      "40\n",
      "tabi’in wajib\n",
      "d wajib\n",
      "41\n",
      "42\n",
      "43\n",
      "tabi’in wajib\n",
      "d wajib\n",
      "44\n"
     ]
    }
   ],
   "source": [
    "ix = 0\n",
    "for jawaban0 in jawaban__:\n",
    "    print(ix)\n",
    "    if jawaban0.lower() == \"e\":\n",
    "        print(e_, d_)\n",
    "        d[ix], e[ix]= e[ix], d[ix]\n",
    "        jawaban__[ix]='D'\n",
    "        print(\"d\", d_)\n",
    "    ix+=1"
   ]
  },
  {
   "cell_type": "code",
   "execution_count": 75,
   "metadata": {},
   "outputs": [
    {
     "data": {
      "text/plain": [
       "45"
      ]
     },
     "execution_count": 75,
     "metadata": {},
     "output_type": "execute_result"
    }
   ],
   "source": [
    "len(soal)"
   ]
  },
  {
   "cell_type": "code",
   "execution_count": 78,
   "metadata": {},
   "outputs": [],
   "source": [
    "import pandas as pd\n",
    "dicA = {\"soal\":soal,\"a\":a,\"b\":b,\"c\":c,\"d\":d,\"e\":e,\"kunci\":jawaban__}\n",
    "ds = pd.DataFrame.from_dict(dicA)"
   ]
  },
  {
   "cell_type": "code",
   "execution_count": 79,
   "metadata": {},
   "outputs": [],
   "source": [
    "ds.to_excel(\"PAI.xlsx\")"
   ]
  },
  {
   "cell_type": "code",
   "execution_count": 39,
   "metadata": {},
   "outputs": [],
   "source": [
    "# document = Document()\n",
    "# for s, a_, b_, c_, d_, e_ in zip(soal, a, b, c, d, e):\n",
    "# #     print(\" \".join(s.split(\" \")[1:]))\n",
    "#     document.add_paragraph\n",
    "#     document.add_paragraph(s)\n",
    "#     document.add_paragraph(\"\\t{}\".format(a_))\n",
    "#     document.add_paragraph(\"\\t{}\".format(b_))\n",
    "#     document.add_paragraph(\"\\t{}\".format(c_))\n",
    "#     document.add_paragraph(\"\\t{}\".format(d_))\n",
    "#     document.add_paragraph(\"\\t{}\".format(e_))"
   ]
  },
  {
   "cell_type": "code",
   "execution_count": 67,
   "metadata": {},
   "outputs": [],
   "source": [
    "# document.save(\"soal_Prakarya_kelas_10temp.docx\")"
   ]
  },
  {
   "cell_type": "code",
   "execution_count": null,
   "metadata": {},
   "outputs": [],
   "source": []
  }
 ],
 "metadata": {
  "kernelspec": {
   "display_name": "Python 3",
   "language": "python",
   "name": "python3"
  },
  "language_info": {
   "codemirror_mode": {
    "name": "ipython",
    "version": 3
   },
   "file_extension": ".py",
   "mimetype": "text/x-python",
   "name": "python",
   "nbconvert_exporter": "python",
   "pygments_lexer": "ipython3",
   "version": "3.7.4"
  }
 },
 "nbformat": 4,
 "nbformat_minor": 2
}
